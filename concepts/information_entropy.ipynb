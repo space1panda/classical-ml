{
 "cells": [
  {
   "cell_type": "markdown",
   "metadata": {},
   "source": [
    "# INFORMATION ENTROPY"
   ]
  },
  {
   "cell_type": "markdown",
   "metadata": {},
   "source": [
    "#### In this notebook I am explaining the concept of information entropy and its application in machine learning"
   ]
  },
  {
   "cell_type": "markdown",
   "metadata": {},
   "source": [
    "##### Why do we have to talk about it?"
   ]
  },
  {
   "cell_type": "markdown",
   "metadata": {},
   "source": [
    "The process of training machine learning model (approximating the distribution of random variables) happens simultaneously with mnimizing the amount of knowledge that can be \"learnt\" by the model from the given training dataset. In the ideal case, when dataset contains total number of states of rv, the amount of gained knowledge from the dataset fully describes the uncertainty represented by the rv. The information about the amount of gained knowledge can be quantified and used in both classification and regression tasks.\n",
    "\n",
    "The amount of knowledge, that can be learnt from observing rv, is also called entropy, and information entropy in case of data. This concept originates from thernodynamics, where it describes the degree of disorder, which appears internally in materials (gases, liquids) or when different materials interact. We do not need to go into any further understanding here\n"
   ]
  },
  {
   "cell_type": "markdown",
   "metadata": {},
   "source": [
    "Consider the dummy example with 52 cards. You want to create the model, which will classify the drawn card\n",
    "\n",
    "Let's imagine that the variable of interest, drawn card, follows the unknown distribution (Of course we know it's a discrete uniform variable) and also imagine, that you've never ever seen a single deck in your life, and you don't know what type of cards there are. How do we learn (and teach the model) what is the probability of drawing the particular type of the card?\n",
    "\n",
    "Say, we got the queen of spades as our first draw. So what?\n",
    "We may have learnt that:\n",
    "- There are spades in the deck;\n",
    "- There are queens in the deck;\n",
    "\n",
    "Before the first draw, we knew nothing, thus we were giving an equal chance for anything to appear on the first draw. Whatever outcome of the draw would be, we would have gained some new knowledge, and become less uncertain about what is there in the deck. After the first draw however, we may begin to give higher chance for the spades/queens, as we are aware of their existance, and we won't be any longer \"surprised\" by encountering them.\n",
    "\n",
    "*The higher the probability of the event, the less new knowledge it provides about the random variable behavior*\n",
    "\n",
    "Thus, if we draw queen of spades again, the amount of gained knowledge is 0.\n",
    "\n",
    "*Here you might already see, why increasing the number of examples in the dataset by making duplicates makes no sense*\n",
    "\n",
    "We continue making draws gaining various type of information to finally make the following conclusions:\n",
    "\n",
    "- There are red and black cards;\n",
    "- There are spades, diamonds, hearts and clubs;\n",
    "- There are numbers and faces;\n",
    "- There are special cards (Aces and Jokers);\n",
    "\n"
   ]
  },
  {
   "cell_type": "markdown",
   "metadata": {},
   "source": []
  }
 ],
 "metadata": {
  "language_info": {
   "name": "python"
  },
  "orig_nbformat": 4
 },
 "nbformat": 4,
 "nbformat_minor": 2
}

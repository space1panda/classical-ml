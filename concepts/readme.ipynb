{
 "cells": [
  {
   "cell_type": "markdown",
   "metadata": {},
   "source": [
    "# "
   ]
  },
  {
   "cell_type": "markdown",
   "metadata": {},
   "source": [
    "Hello there,\n",
    "\n",
    "In this section you will find explanations to various concepts coming from different fields of mathematical analysis and statistics, which found application in modern machine learning tools. I am paying the biggest attention to writing in an easy-to-understand fassion, without fancy academical wording, which does nothing but slows down engineer's work. \n",
    "\n",
    "I do not recommend styding this section unless you actually have to dive into specific topic. The formulas are used only in cases when it is necessary to illustrate the mathematical derivation of particular formula."
   ]
  },
  {
   "cell_type": "markdown",
   "metadata": {},
   "source": [
    "Contents:\n",
    "\n",
    "1. Basics:\n",
    "    * Information Entropy;\n",
    "    * Decision Trees;"
   ]
  }
 ],
 "metadata": {
  "language_info": {
   "name": "python"
  },
  "orig_nbformat": 4
 },
 "nbformat": 4,
 "nbformat_minor": 2
}
